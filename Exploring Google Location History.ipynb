{
 "cells": [
  {
   "cell_type": "markdown",
   "metadata": {},
   "source": [
    "## Exploring Google Location History"
   ]
  },
  {
   "cell_type": "code",
   "execution_count": null,
   "metadata": {},
   "outputs": [],
   "source": [
    "!pip install geopandas"
   ]
  },
  {
   "cell_type": "code",
   "execution_count": null,
   "metadata": {},
   "outputs": [],
   "source": [
    "!pip install descartes"
   ]
  },
  {
   "cell_type": "code",
   "execution_count": null,
   "metadata": {},
   "outputs": [],
   "source": [
    "import pandas as pd\n",
    "import numpy as np\n",
    "import geopandas as gp\n",
    "import shapely.geometry as sg\n",
    "import datetime as dt\n",
    "from matplotlib import cm\n",
    "from matplotlib.lines import Line2D"
   ]
  },
  {
   "cell_type": "code",
   "execution_count": null,
   "metadata": {},
   "outputs": [],
   "source": [
    "def parse_json(json):\n",
    "    points = [sg.Point(xy) for xy in zip(json.locations.apply(lambda x: x[\"longitudeE7\"] / 10000000),\n",
    "                                     json.locations.apply(lambda x: x[\"latitudeE7\"] / 10000000))]\n",
    "    df = gp.GeoDataFrame(geometry=points)\n",
    "    locations = json.locations\n",
    "    df[\"timestamp\"] = locations.apply(lambda x: pd.to_datetime(x[\"timestampMs\"], unit='ms'))\n",
    "    df[\"accuracy\"] = locations.apply(lambda x: x[\"accuracy\"])\n",
    "    df[\"longitude\"] = locations.apply(lambda x: x[\"longitudeE7\"] / 10000000)\n",
    "    df[\"latitude\"] = locations.apply(lambda x: x[\"latitudeE7\"] / 10000000)\n",
    "    df[\"location\"] = df['latitude'].astype(str).str.cat(df['longitude'].astype(str), sep =\",\")     \n",
    "    return df"
   ]
  },
  {
   "cell_type": "code",
   "execution_count": null,
   "metadata": {},
   "outputs": [],
   "source": [
    "def compute_legend(df, ax, cmap, steps):\n",
    "    vals = [x / (steps - 1) for x in range(steps)]\n",
    "    custom_lines = [Line2D([0], [0], color=cmap(step), lw=4) for step in vals]\n",
    "    labels = [df.timestamp.quantile(step).strftime(\"%Y-%m-%d\") for step in vals]\n",
    "    ax.legend(custom_lines, labels, loc=\"lower right\")\n",
    "\n",
    "def seconds(timestamp):\n",
    "    return timestamp.to_pydatetime().timestamp()\n",
    "\n",
    "def calculate_pal(df2, cmap):\n",
    "    min_ts = seconds(df2.timestamp.min())\n",
    "    max_ts = seconds(df2.timestamp.max())\n",
    "    true_min = max_ts - min_ts\n",
    "    if true_min == 0:\n",
    "        true_min = 1\n",
    "    return df2.timestamp.apply(lambda ts: cmap((seconds(ts) - min_ts) / (true_min))).tolist()\n",
    "\n",
    "def draw_map(df, box, region):\n",
    "    box_only = df[df.geometry.within(box)]    \n",
    "    if box_only.size > 0:\n",
    "        minx, miny, maxx, maxy = box.bounds\n",
    "        base = world.plot(color='white', edgecolor='silver', figsize=(16,12))\n",
    "        base.set_xlim(minx, maxx)\n",
    "        base.set_ylim(miny, maxy)\n",
    "        cmap = cm.get_cmap('viridis')\n",
    "        pal = calculate_pal(box_only, cmap)\n",
    "        ax = box_only.plot(ax=base, marker='o', color=pal, markersize=8)\n",
    "        compute_legend(box_only, ax, cmap, 5)\n",
    "    else:\n",
    "        print('No Data for ' + region)"
   ]
  },
  {
   "cell_type": "markdown",
   "metadata": {},
   "source": [
    "### Load Data"
   ]
  },
  {
   "cell_type": "code",
   "execution_count": null,
   "metadata": {},
   "outputs": [],
   "source": [
    "%time df = parse_json(pd.read_json(\"Location History.json\"))\n",
    "df.shape"
   ]
  },
  {
   "cell_type": "code",
   "execution_count": null,
   "metadata": {},
   "outputs": [],
   "source": [
    "df.to_csv('location_data.csv')"
   ]
  },
  {
   "cell_type": "markdown",
   "metadata": {},
   "source": [
    "## Data Stats"
   ]
  },
  {
   "cell_type": "code",
   "execution_count": null,
   "metadata": {},
   "outputs": [],
   "source": [
    "df[\"accuracy\"].describe()"
   ]
  },
  {
   "cell_type": "code",
   "execution_count": null,
   "metadata": {},
   "outputs": [],
   "source": [
    "df[\"location\"].describe()"
   ]
  },
  {
   "cell_type": "code",
   "execution_count": null,
   "metadata": {},
   "outputs": [],
   "source": [
    "df[\"timestamp\"].groupby(df[\"timestamp\"].astype(\"datetime64\").dt.month).count().plot(kind=\"bar\")"
   ]
  },
  {
   "cell_type": "markdown",
   "metadata": {},
   "source": [
    "### Download Map Data to Map History"
   ]
  },
  {
   "cell_type": "markdown",
   "metadata": {},
   "source": [
    "Reference: Country Level Geos\n",
    "\n",
    "https://gist.github.com/graydon/11198540"
   ]
  },
  {
   "cell_type": "code",
   "execution_count": null,
   "metadata": {},
   "outputs": [],
   "source": [
    "# http://thematicmapping.org/downloads/world_borders.php\n",
    "!wget http://thematicmapping.org/downloads/TM_WORLD_BORDERS-0.3.zip"
   ]
  },
  {
   "cell_type": "code",
   "execution_count": null,
   "metadata": {},
   "outputs": [],
   "source": [
    "!unzip TM_WORLD_BORDERS-0.3.zip"
   ]
  },
  {
   "cell_type": "code",
   "execution_count": null,
   "metadata": {},
   "outputs": [],
   "source": [
    "world = gp.read_file('TM_WORLD_BORDERS-0.3.shp')"
   ]
  },
  {
   "cell_type": "markdown",
   "metadata": {},
   "source": [
    "## World Map"
   ]
  },
  {
   "cell_type": "code",
   "execution_count": null,
   "metadata": {},
   "outputs": [],
   "source": [
    "draw_map(df, sg.box(-140, -20, 140, 70), 'World')"
   ]
  },
  {
   "cell_type": "markdown",
   "metadata": {},
   "source": [
    "## USA"
   ]
  },
  {
   "cell_type": "code",
   "execution_count": null,
   "metadata": {},
   "outputs": [],
   "source": [
    "draw_map(df, sg.box(-130, 21, -70, 55), 'USA') # minus Alaska & Hawaii"
   ]
  },
  {
   "cell_type": "markdown",
   "metadata": {},
   "source": [
    "## Map of Europe"
   ]
  },
  {
   "cell_type": "code",
   "execution_count": null,
   "metadata": {},
   "outputs": [],
   "source": [
    "draw_map(df, sg.box(-10, 30, 50, 70), 'Europe')"
   ]
  },
  {
   "cell_type": "markdown",
   "metadata": {},
   "source": [
    "## Japan"
   ]
  },
  {
   "cell_type": "code",
   "execution_count": null,
   "metadata": {},
   "outputs": [],
   "source": [
    "draw_map(df, sg.box(125, 25, 150, 50), 'Japan')"
   ]
  },
  {
   "cell_type": "markdown",
   "metadata": {},
   "source": [
    "## Okinawa"
   ]
  },
  {
   "cell_type": "code",
   "execution_count": null,
   "metadata": {},
   "outputs": [],
   "source": [
    "draw_map(df, sg.box(127.4, 26, 128.5, 27), 'Okinawa')"
   ]
  },
  {
   "cell_type": "code",
   "execution_count": null,
   "metadata": {},
   "outputs": [],
   "source": []
  }
 ],
 "metadata": {
  "kernelspec": {
   "display_name": "Python 3",
   "language": "python",
   "name": "python3"
  },
  "language_info": {
   "codemirror_mode": {
    "name": "ipython",
    "version": 3
   },
   "file_extension": ".py",
   "mimetype": "text/x-python",
   "name": "python",
   "nbconvert_exporter": "python",
   "pygments_lexer": "ipython3",
   "version": "3.8.5"
  }
 },
 "nbformat": 4,
 "nbformat_minor": 4
}
